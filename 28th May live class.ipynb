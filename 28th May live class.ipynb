{
 "cells": [
  {
   "cell_type": "code",
   "execution_count": 1,
   "id": "de865173",
   "metadata": {},
   "outputs": [],
   "source": [
    "l = [1,2,3,4,5,6,'kuma',29.04]"
   ]
  },
  {
   "cell_type": "code",
   "execution_count": 2,
   "id": "85dddec6",
   "metadata": {
    "scrolled": true
   },
   "outputs": [
    {
     "name": "stdout",
     "output_type": "stream",
     "text": [
      "1\n",
      "2\n",
      "3\n",
      "4\n",
      "5\n",
      "6\n",
      "kuma\n",
      "29.04\n"
     ]
    }
   ],
   "source": [
    "for i in l :\n",
    "    print(i)"
   ]
  },
  {
   "cell_type": "code",
   "execution_count": 3,
   "id": "505b67af",
   "metadata": {},
   "outputs": [],
   "source": [
    "for i in l :\n",
    "    pass\n",
    "    "
   ]
  },
  {
   "cell_type": "markdown",
   "id": "d77cffc8",
   "metadata": {},
   "source": [
    "if we are not writing a body we can just give it pass so it does not give an error"
   ]
  },
  {
   "cell_type": "code",
   "execution_count": 4,
   "id": "a9e31d13",
   "metadata": {},
   "outputs": [
    {
     "name": "stdout",
     "output_type": "stream",
     "text": [
      "k\n",
      "u\n",
      "m\n",
      "a\n"
     ]
    }
   ],
   "source": [
    "k = 'kuma'\n",
    "for i in k :\n",
    "    print(i)"
   ]
  },
  {
   "cell_type": "code",
   "execution_count": 5,
   "id": "e78f9f94",
   "metadata": {},
   "outputs": [
    {
     "name": "stdout",
     "output_type": "stream",
     "text": [
      "1\n",
      "2\n",
      "3\n",
      "4\n",
      "5\n",
      "6\n",
      "kuma\n",
      "29.04\n",
      "Once the conditions gets fullfilled it will print this\n"
     ]
    }
   ],
   "source": [
    "for i in l :\n",
    "    print(i)\n",
    "else :\n",
    "    print('Once the conditions gets fullfilled it will print this')"
   ]
  },
  {
   "cell_type": "code",
   "execution_count": 6,
   "id": "976bc86e",
   "metadata": {},
   "outputs": [
    {
     "name": "stdout",
     "output_type": "stream",
     "text": [
      "1\n",
      "2\n",
      "3\n"
     ]
    }
   ],
   "source": [
    "for i in l :\n",
    "    if i == 4 :\n",
    "        break\n",
    "    print(i)\n",
    "else :\n",
    "    print('this will execute when the statement will execute itself')"
   ]
  },
  {
   "cell_type": "markdown",
   "id": "35974683",
   "metadata": {},
   "source": [
    "The else function did not execute because it iwlol only execute if the 'if' executes itself but in here\n",
    "break is taking it out of loop because of which the else statement will not execute"
   ]
  },
  {
   "cell_type": "code",
   "execution_count": 7,
   "id": "6423ff5a",
   "metadata": {},
   "outputs": [],
   "source": [
    "h = 'himanshu'"
   ]
  },
  {
   "cell_type": "code",
   "execution_count": 8,
   "id": "e3e7c38c",
   "metadata": {},
   "outputs": [
    {
     "name": "stdout",
     "output_type": "stream",
     "text": [
      "h\n",
      "i\n",
      "m\n",
      "a\n"
     ]
    }
   ],
   "source": [
    "for i in h :\n",
    "    if i == 'n':\n",
    "        break\n",
    "    print(i)\n",
    "else :\n",
    "    print(\"let's see\")\n",
    "    "
   ]
  },
  {
   "cell_type": "code",
   "execution_count": 9,
   "id": "36bee8e4",
   "metadata": {},
   "outputs": [
    {
     "name": "stdout",
     "output_type": "stream",
     "text": [
      "4\n",
      "5\n",
      "6\n",
      "7\n",
      "8\n",
      "6\n",
      "kuma\n"
     ]
    }
   ],
   "source": [
    "t = (4,5,6,7,8,6,\"kuma\")\n",
    "for i in t :\n",
    "    print(i)"
   ]
  },
  {
   "cell_type": "code",
   "execution_count": 10,
   "id": "ac6016d9",
   "metadata": {},
   "outputs": [],
   "source": [
    "b = {4,5,6,7,7,7,7,8,\"kuma\"}"
   ]
  },
  {
   "cell_type": "code",
   "execution_count": 11,
   "id": "29681453",
   "metadata": {},
   "outputs": [
    {
     "data": {
      "text/plain": [
       "set"
      ]
     },
     "execution_count": 11,
     "metadata": {},
     "output_type": "execute_result"
    }
   ],
   "source": [
    "type(b)"
   ]
  },
  {
   "cell_type": "code",
   "execution_count": 12,
   "id": "0d0f5be3",
   "metadata": {},
   "outputs": [
    {
     "data": {
      "text/plain": [
       "{4, 5, 6, 7, 8, 'kuma'}"
      ]
     },
     "execution_count": 12,
     "metadata": {},
     "output_type": "execute_result"
    }
   ],
   "source": [
    "b"
   ]
  },
  {
   "cell_type": "markdown",
   "id": "39863bfc",
   "metadata": {},
   "source": [
    "set only shows unique values not duplicate ones"
   ]
  },
  {
   "cell_type": "code",
   "execution_count": 13,
   "id": "d0b445d6",
   "metadata": {},
   "outputs": [
    {
     "name": "stdout",
     "output_type": "stream",
     "text": [
      "4\n",
      "5\n",
      "6\n",
      "7\n",
      "8\n",
      "kuma\n"
     ]
    }
   ],
   "source": [
    "for i in b :\n",
    "    print(i)"
   ]
  },
  {
   "cell_type": "code",
   "execution_count": 14,
   "id": "dc5bff29",
   "metadata": {},
   "outputs": [],
   "source": [
    "d ={'key1' : 'kuma', 'Contact' : 'Coolboy@gmail.com', 'Info' : 1234}"
   ]
  },
  {
   "cell_type": "code",
   "execution_count": 15,
   "id": "b31bb2ba",
   "metadata": {},
   "outputs": [
    {
     "name": "stdout",
     "output_type": "stream",
     "text": [
      "key1\n",
      "Contact\n",
      "Info\n"
     ]
    }
   ],
   "source": [
    "for i in d :\n",
    "    print(i)"
   ]
  },
  {
   "cell_type": "markdown",
   "id": "cb292a12",
   "metadata": {},
   "source": [
    "It is only returning keys"
   ]
  },
  {
   "cell_type": "markdown",
   "id": "0d5cb145",
   "metadata": {},
   "source": [
    "to get values like this "
   ]
  },
  {
   "cell_type": "code",
   "execution_count": 16,
   "id": "528943cc",
   "metadata": {},
   "outputs": [
    {
     "data": {
      "text/plain": [
       "'kuma'"
      ]
     },
     "execution_count": 16,
     "metadata": {},
     "output_type": "execute_result"
    }
   ],
   "source": [
    "d['key1']"
   ]
  },
  {
   "cell_type": "code",
   "execution_count": 17,
   "id": "5e604205",
   "metadata": {},
   "outputs": [
    {
     "name": "stdout",
     "output_type": "stream",
     "text": [
      "kuma\n",
      "Coolboy@gmail.com\n",
      "1234\n"
     ]
    }
   ],
   "source": [
    "for i in d :\n",
    "    print(d[i])"
   ]
  },
  {
   "cell_type": "markdown",
   "id": "1802b5a9",
   "metadata": {},
   "source": [
    "To get both the values "
   ]
  },
  {
   "cell_type": "code",
   "execution_count": 18,
   "id": "dd55e33f",
   "metadata": {},
   "outputs": [
    {
     "name": "stdout",
     "output_type": "stream",
     "text": [
      "kuma : key1\n",
      "Coolboy@gmail.com : Contact\n",
      "1234 : Info\n"
     ]
    }
   ],
   "source": [
    "for i in d :\n",
    "    print(d[i],\":\",i)"
   ]
  },
  {
   "cell_type": "code",
   "execution_count": 19,
   "id": "629b2b88",
   "metadata": {},
   "outputs": [
    {
     "data": {
      "text/plain": [
       "range(0, 9)"
      ]
     },
     "execution_count": 19,
     "metadata": {},
     "output_type": "execute_result"
    }
   ],
   "source": [
    "\n",
    "range(9)"
   ]
  },
  {
   "cell_type": "code",
   "execution_count": 20,
   "id": "8d83d940",
   "metadata": {},
   "outputs": [
    {
     "data": {
      "text/plain": [
       "[0, 1, 2, 3, 4, 5, 6, 7, 8]"
      ]
     },
     "execution_count": 20,
     "metadata": {},
     "output_type": "execute_result"
    }
   ],
   "source": [
    "list(range(9))"
   ]
  },
  {
   "cell_type": "code",
   "execution_count": 21,
   "id": "258e9620",
   "metadata": {},
   "outputs": [
    {
     "name": "stdout",
     "output_type": "stream",
     "text": [
      "0\n",
      "1\n",
      "2\n",
      "3\n",
      "4\n",
      "5\n",
      "6\n",
      "7\n",
      "8\n"
     ]
    }
   ],
   "source": [
    "for i in range(9):\n",
    "    print(i)"
   ]
  },
  {
   "cell_type": "code",
   "execution_count": 22,
   "id": "cbed47ed",
   "metadata": {},
   "outputs": [
    {
     "data": {
      "text/plain": [
       "[0, 1, 2, 3, 4, 5, 6, 7, 8]"
      ]
     },
     "execution_count": 22,
     "metadata": {},
     "output_type": "execute_result"
    }
   ],
   "source": [
    "list(range(0,9))"
   ]
  },
  {
   "cell_type": "code",
   "execution_count": 23,
   "id": "2c8d6483",
   "metadata": {},
   "outputs": [
    {
     "data": {
      "text/plain": [
       "[0, 2, 4, 6, 8]"
      ]
     },
     "execution_count": 23,
     "metadata": {},
     "output_type": "execute_result"
    }
   ],
   "source": [
    "list(range(0,9,2))"
   ]
  },
  {
   "cell_type": "code",
   "execution_count": 24,
   "id": "d0d32ab2",
   "metadata": {},
   "outputs": [
    {
     "data": {
      "text/plain": [
       "[]"
      ]
     },
     "execution_count": 24,
     "metadata": {},
     "output_type": "execute_result"
    }
   ],
   "source": [
    "list(range(0,9,-1))"
   ]
  },
  {
   "cell_type": "code",
   "execution_count": 25,
   "id": "67b7a598",
   "metadata": {},
   "outputs": [
    {
     "data": {
      "text/plain": [
       "[9, 7, 5, 3, 1]"
      ]
     },
     "execution_count": 25,
     "metadata": {},
     "output_type": "execute_result"
    }
   ],
   "source": [
    "list(range(9,0,-2))"
   ]
  },
  {
   "cell_type": "markdown",
   "id": "4e61ff34",
   "metadata": {},
   "source": [
    "Range is a function which is used to produce a data set at any point of time"
   ]
  },
  {
   "cell_type": "code",
   "execution_count": 26,
   "id": "e26cc02a",
   "metadata": {},
   "outputs": [
    {
     "name": "stdout",
     "output_type": "stream",
     "text": [
      "kuma \n",
      "\n",
      "kuma kuma \n",
      "\n",
      "kuma kuma kuma \n",
      "\n",
      "kuma kuma kuma kuma \n",
      "\n"
     ]
    }
   ],
   "source": [
    "n = 4\n",
    "for i in range(4) :\n",
    "    for j in range(0 , i+1) :\n",
    "        print(\"kuma\", end = \" \")\n",
    "    print(\"\\n\")\n",
    "    \n",
    "         "
   ]
  },
  {
   "cell_type": "markdown",
   "id": "29224a04",
   "metadata": {},
   "source": [
    "(\\n) is used to CHANGE LINE"
   ]
  },
  {
   "cell_type": "code",
   "execution_count": 27,
   "id": "faea86d4",
   "metadata": {},
   "outputs": [
    {
     "name": "stdout",
     "output_type": "stream",
     "text": [
      "                       kuma kuma \n",
      "\n",
      "                       kuma kuma kuma                        kuma kuma kuma \n",
      "\n",
      "                       kuma kuma kuma kuma                        kuma kuma kuma kuma                        kuma kuma kuma kuma \n",
      "\n"
     ]
    }
   ],
   "source": [
    "n = 3\n",
    "for i in range(3) :\n",
    "    for z in range(0, i+1) :\n",
    "        print(\"                      \",'kuma', end = \" \")\n",
    "        for z in range(0,i+1) :\n",
    "            print(\"kuma\", end = \" \")\n",
    "    print('\\n')"
   ]
  },
  {
   "cell_type": "code",
   "execution_count": 28,
   "id": "d2d897c5",
   "metadata": {},
   "outputs": [
    {
     "name": "stdout",
     "output_type": "stream",
     "text": [
      "          \n",
      "     \n",
      "\n"
     ]
    }
   ],
   "source": [
    "n = 3 \n",
    "for i in range(n) :\n",
    "    for z in range(i,n-1):\n",
    "        print(\" \" * len(\"kuma\"), end =\" \")\n",
    "    print()\n",
    "        "
   ]
  },
  {
   "cell_type": "markdown",
   "id": "5dbaff7d",
   "metadata": {},
   "source": [
    "n = 3 because we have to print 3 rows"
   ]
  },
  {
   "cell_type": "code",
   "execution_count": 29,
   "id": "687caa7e",
   "metadata": {},
   "outputs": [
    {
     "name": "stdout",
     "output_type": "stream",
     "text": [
      "          Kuma \n",
      "     Kuma Kuma Kuma \n",
      "Kuma Kuma Kuma Kuma Kuma \n"
     ]
    }
   ],
   "source": [
    "n = 3\n",
    "for i in range(n):\n",
    "    for z in range(i,n-1):\n",
    "        print(\" \" * len(\"Kuma\"),end = \" \")\n",
    "    for z in range(i+1):\n",
    "        print(\"Kuma\",end=\" \")\n",
    "    for z in range(i):\n",
    "        print(\"Kuma\",end = \" \")\n",
    "    print()\n",
    "    \n",
    "        "
   ]
  },
  {
   "cell_type": "code",
   "execution_count": 30,
   "id": "7ab80305",
   "metadata": {},
   "outputs": [],
   "source": [
    "t = (3,23,45,67,2,4,5,6)"
   ]
  },
  {
   "cell_type": "code",
   "execution_count": 31,
   "id": "0065bfa2",
   "metadata": {},
   "outputs": [
    {
     "data": {
      "text/plain": [
       "3"
      ]
     },
     "execution_count": 31,
     "metadata": {},
     "output_type": "execute_result"
    }
   ],
   "source": [
    "t[0]"
   ]
  },
  {
   "cell_type": "code",
   "execution_count": 32,
   "id": "c4aa6bf4",
   "metadata": {},
   "outputs": [
    {
     "name": "stdout",
     "output_type": "stream",
     "text": [
      "0 3\n",
      "1 23\n",
      "2 45\n",
      "3 67\n",
      "4 2\n",
      "5 4\n",
      "6 5\n",
      "7 6\n"
     ]
    }
   ],
   "source": [
    "for i in range(len(t)):\n",
    "    print(i,t[i])"
   ]
  },
  {
   "cell_type": "markdown",
   "id": "1ba89454",
   "metadata": {},
   "source": [
    "here we are trying to print index with their element"
   ]
  },
  {
   "cell_type": "code",
   "execution_count": 33,
   "id": "39b0b38e",
   "metadata": {},
   "outputs": [
    {
     "data": {
      "text/plain": [
       "[0, 1, 2, 3, 4, 5, 6, 7]"
      ]
     },
     "execution_count": 33,
     "metadata": {},
     "output_type": "execute_result"
    }
   ],
   "source": [
    "list(range(len(t)))"
   ]
  },
  {
   "cell_type": "code",
   "execution_count": 34,
   "id": "664d4caf",
   "metadata": {},
   "outputs": [
    {
     "data": {
      "text/plain": [
       "<function tuple.index(value, start=0, stop=9223372036854775807, /)>"
      ]
     },
     "execution_count": 34,
     "metadata": {},
     "output_type": "execute_result"
    }
   ],
   "source": [
    "t.index"
   ]
  },
  {
   "cell_type": "code",
   "execution_count": 35,
   "id": "7bdfe05f",
   "metadata": {},
   "outputs": [
    {
     "data": {
      "text/plain": [
       "range(0, 7)"
      ]
     },
     "execution_count": 35,
     "metadata": {},
     "output_type": "execute_result"
    }
   ],
   "source": [
    "s = \"ineuron\"\n",
    "range(len(s))"
   ]
  },
  {
   "cell_type": "code",
   "execution_count": 36,
   "id": "89e977cd",
   "metadata": {},
   "outputs": [
    {
     "name": "stdout",
     "output_type": "stream",
     "text": [
      "0 i\n",
      "1 n\n",
      "2 e\n",
      "3 u\n",
      "4 r\n",
      "5 o\n",
      "6 n\n"
     ]
    }
   ],
   "source": [
    "for i in range(len(s)):\n",
    "    print(i,s[i])"
   ]
  },
  {
   "cell_type": "code",
   "execution_count": 37,
   "id": "ac0c6cfc",
   "metadata": {},
   "outputs": [
    {
     "data": {
      "text/plain": [
       "'norueni'"
      ]
     },
     "execution_count": 37,
     "metadata": {},
     "output_type": "execute_result"
    }
   ],
   "source": [
    "s[::-1]"
   ]
  },
  {
   "cell_type": "code",
   "execution_count": 38,
   "id": "ecc35f27",
   "metadata": {},
   "outputs": [
    {
     "name": "stdout",
     "output_type": "stream",
     "text": [
      "6 n\n",
      "5 o\n",
      "4 r\n",
      "3 u\n",
      "2 e\n",
      "1 n\n",
      "0 i\n"
     ]
    }
   ],
   "source": [
    "for i in range(len(s)-1, -1 , -1):\n",
    "    print(i,s[i])"
   ]
  },
  {
   "cell_type": "markdown",
   "id": "d8114276",
   "metadata": {},
   "source": [
    "here we are printing the index and elements in reverse order"
   ]
  },
  {
   "cell_type": "code",
   "execution_count": 39,
   "id": "60fd30b3",
   "metadata": {},
   "outputs": [
    {
     "name": "stdout",
     "output_type": "stream",
     "text": [
      "6 n\n",
      "5 o\n",
      "4 r\n",
      "3 u\n",
      "2 e\n",
      "1 n\n",
      "0 i\n"
     ]
    }
   ],
   "source": [
    "for i in range(len(s)-1, -1, -1):\n",
    "    print(i,s[i])"
   ]
  },
  {
   "cell_type": "code",
   "execution_count": 40,
   "id": "3787bad0",
   "metadata": {},
   "outputs": [
    {
     "data": {
      "text/plain": [
       "{'key1': 'kuma', 'Contact': 'Coolboy@gmail.com', 'Info': 1234}"
      ]
     },
     "execution_count": 40,
     "metadata": {},
     "output_type": "execute_result"
    }
   ],
   "source": [
    "d"
   ]
  },
  {
   "cell_type": "code",
   "execution_count": 41,
   "id": "78fffe4e",
   "metadata": {},
   "outputs": [
    {
     "name": "stdout",
     "output_type": "stream",
     "text": [
      "('key1', 'kuma') <class 'tuple'> <class 'str'>\n",
      "('Contact', 'Coolboy@gmail.com') <class 'tuple'> <class 'str'>\n",
      "('Info', 1234) <class 'tuple'> <class 'int'>\n"
     ]
    }
   ],
   "source": [
    "for i in d.items():\n",
    "    print(i,type(i), type(i[1]))"
   ]
  },
  {
   "cell_type": "markdown",
   "id": "36fa8735",
   "metadata": {},
   "source": [
    "Here to get the type of the values we use the index positions of the items to get their type which in this case is \"1\""
   ]
  },
  {
   "cell_type": "code",
   "execution_count": 42,
   "id": "2badedc0",
   "metadata": {},
   "outputs": [],
   "source": [
    "l = [\"himanshu\", \"kumar\", 123456, \"coolboy@gmail.com\", 3353, 56]"
   ]
  },
  {
   "cell_type": "code",
   "execution_count": 43,
   "id": "95dfef8e",
   "metadata": {},
   "outputs": [
    {
     "data": {
      "text/plain": [
       "['himanshu', 'kumar', 123456, 'coolboy@gmail.com', 3353, 56]"
      ]
     },
     "execution_count": 43,
     "metadata": {},
     "output_type": "execute_result"
    }
   ],
   "source": [
    "l"
   ]
  },
  {
   "cell_type": "code",
   "execution_count": 44,
   "id": "b6088745",
   "metadata": {},
   "outputs": [],
   "source": [
    "l1 = []\n",
    "for i in l :\n",
    "    if type(i) == int:\n",
    "        l1.append(i)"
   ]
  },
  {
   "cell_type": "code",
   "execution_count": 45,
   "id": "dd9ab51b",
   "metadata": {},
   "outputs": [
    {
     "data": {
      "text/plain": [
       "[123456, 3353, 56]"
      ]
     },
     "execution_count": 45,
     "metadata": {},
     "output_type": "execute_result"
    }
   ],
   "source": [
    "l1"
   ]
  },
  {
   "cell_type": "markdown",
   "id": "b71ca81a",
   "metadata": {},
   "source": [
    "we used this statement to create a new list with only the numbers from the previous ones "
   ]
  },
  {
   "cell_type": "code",
   "execution_count": 46,
   "id": "23ccd1bc",
   "metadata": {},
   "outputs": [],
   "source": [
    "d = {1:34567, \"name\" : \"kuma\", \"email\" : \"coolboy@gmail.com\", 564:\"jfhfj\", 765:\"bhjj\", 77:\"9969\"}"
   ]
  },
  {
   "cell_type": "code",
   "execution_count": 47,
   "id": "3a004662",
   "metadata": {},
   "outputs": [
    {
     "name": "stdout",
     "output_type": "stream",
     "text": [
      "1 : 34567\n",
      "564 : jfhfj\n",
      "765 : bhjj\n",
      "77 : 9969\n"
     ]
    }
   ],
   "source": [
    "for i in d :\n",
    "    if type(i) == int:\n",
    "        print(i, \":\", d[i])"
   ]
  },
  {
   "cell_type": "markdown",
   "id": "c24a213f",
   "metadata": {},
   "source": [
    "Here, we are extracting the pairs where the value of key is integer"
   ]
  },
  {
   "cell_type": "code",
   "execution_count": 49,
   "id": "d46a7d5c",
   "metadata": {},
   "outputs": [],
   "source": [
    "s =\"aaaabbbcccd\""
   ]
  },
  {
   "cell_type": "code",
   "execution_count": 51,
   "id": "f2a7617c",
   "metadata": {},
   "outputs": [
    {
     "data": {
      "text/plain": [
       "{'a', 'b', 'c', 'd'}"
      ]
     },
     "execution_count": 51,
     "metadata": {},
     "output_type": "execute_result"
    }
   ],
   "source": [
    "set(s)"
   ]
  },
  {
   "cell_type": "markdown",
   "id": "2878d0a8",
   "metadata": {},
   "source": [
    "set prints unique values "
   ]
  },
  {
   "cell_type": "code",
   "execution_count": 53,
   "id": "fa976ccb",
   "metadata": {},
   "outputs": [
    {
     "data": {
      "text/plain": [
       "4"
      ]
     },
     "execution_count": 53,
     "metadata": {},
     "output_type": "execute_result"
    }
   ],
   "source": [
    "s.count(\"a\")"
   ]
  },
  {
   "cell_type": "code",
   "execution_count": 67,
   "id": "91c48a4d",
   "metadata": {},
   "outputs": [
    {
     "name": "stdout",
     "output_type": "stream",
     "text": [
      "c : 3\n",
      "a : 4\n",
      "d : 1\n",
      "b : 3\n"
     ]
    }
   ],
   "source": [
    "for i in set(s):\n",
    "    print(i, \":\", s.count(i))\n",
    "    \n",
    "   "
   ]
  },
  {
   "cell_type": "code",
   "execution_count": 73,
   "id": "0b7bd81c",
   "metadata": {},
   "outputs": [
    {
     "ename": "TypeError",
     "evalue": "'int' object is not iterable",
     "output_type": "error",
     "traceback": [
      "\u001b[1;31m---------------------------------------------------------------------------\u001b[0m",
      "\u001b[1;31mTypeError\u001b[0m                                 Traceback (most recent call last)",
      "Input \u001b[1;32mIn [73]\u001b[0m, in \u001b[0;36m<cell line: 2>\u001b[1;34m()\u001b[0m\n\u001b[0;32m      1\u001b[0m i \u001b[38;5;241m=\u001b[39m \u001b[38;5;241m3456243655\u001b[39m\n\u001b[1;32m----> 2\u001b[0m \u001b[38;5;28;01mfor\u001b[39;00m z \u001b[38;5;129;01min\u001b[39;00m i:\n\u001b[0;32m      3\u001b[0m     \u001b[38;5;28mprint\u001b[39m(i)\n",
      "\u001b[1;31mTypeError\u001b[0m: 'int' object is not iterable"
     ]
    }
   ],
   "source": [
    "i = 3456243655\n",
    "for z in i:\n",
    "    print(i)"
   ]
  },
  {
   "cell_type": "code",
   "execution_count": 71,
   "id": "d2318987",
   "metadata": {},
   "outputs": [
    {
     "data": {
      "text/plain": [
       "'3456243655'"
      ]
     },
     "execution_count": 71,
     "metadata": {},
     "output_type": "execute_result"
    }
   ],
   "source": [
    "str(i)"
   ]
  },
  {
   "cell_type": "markdown",
   "id": "17d54595",
   "metadata": {},
   "source": [
    "to call every element separately we need to typecast it"
   ]
  },
  {
   "cell_type": "code",
   "execution_count": 76,
   "id": "a085fc58",
   "metadata": {},
   "outputs": [
    {
     "name": "stdout",
     "output_type": "stream",
     "text": [
      "3 <class 'int'>\n",
      "4 <class 'int'>\n",
      "5 <class 'int'>\n",
      "6 <class 'int'>\n",
      "2 <class 'int'>\n",
      "4 <class 'int'>\n",
      "3 <class 'int'>\n",
      "6 <class 'int'>\n",
      "5 <class 'int'>\n",
      "5 <class 'int'>\n"
     ]
    }
   ],
   "source": [
    "for z in str(i):\n",
    "    print(z, type(int(z)))"
   ]
  },
  {
   "cell_type": "code",
   "execution_count": 124,
   "id": "67cc558a",
   "metadata": {},
   "outputs": [],
   "source": [
    "t =(\"kuma\", \"san\", [1,2,3,4,5], (3,4,5,6), {3 : 3, \"key2\" : \"san\"})"
   ]
  },
  {
   "cell_type": "code",
   "execution_count": 104,
   "id": "e886290f",
   "metadata": {},
   "outputs": [
    {
     "name": "stdout",
     "output_type": "stream",
     "text": [
      "3\n",
      "3\n"
     ]
    }
   ],
   "source": [
    "for i in str(t):\n",
    "    if i == \"3\":\n",
    "        print(i)\n",
    "    "
   ]
  },
  {
   "cell_type": "code",
   "execution_count": 129,
   "id": "781a9fce",
   "metadata": {},
   "outputs": [
    {
     "name": "stdout",
     "output_type": "stream",
     "text": [
      "3\n",
      "3\n",
      "3\n",
      "3\n"
     ]
    }
   ],
   "source": [
    "for i in t:\n",
    "    if type(i) == tuple or type(i) == list :\n",
    "        for z in i :\n",
    "            if z == 3 :\n",
    "                print(z)\n",
    "    if type(i) == dict :\n",
    "        for k,v in i.items():\n",
    "            if k == 3 or v == 3:\n",
    "                print(k)\n",
    "                print(v)\n",
    "        "
   ]
  },
  {
   "cell_type": "code",
   "execution_count": 132,
   "id": "dbe377ee",
   "metadata": {},
   "outputs": [],
   "source": [
    "d = {4:5, \"key1\" : \"kuma\", \"key2\" : \"san\"}"
   ]
  },
  {
   "cell_type": "code",
   "execution_count": 141,
   "id": "13428d24",
   "metadata": {},
   "outputs": [
    {
     "name": "stdout",
     "output_type": "stream",
     "text": [
      "4 5\n",
      "key1 kuma\n",
      "key2 san\n"
     ]
    }
   ],
   "source": [
    "for i,j in d.items():\n",
    "    print(i,j)"
   ]
  },
  {
   "cell_type": "code",
   "execution_count": 137,
   "id": "1920f471",
   "metadata": {},
   "outputs": [
    {
     "data": {
      "text/plain": [
       "dict_items([(4, 5), ('key1', 'kuma'), ('key2', 'san')])"
      ]
     },
     "execution_count": 137,
     "metadata": {},
     "output_type": "execute_result"
    }
   ],
   "source": [
    "d.items()"
   ]
  },
  {
   "cell_type": "code",
   "execution_count": null,
   "id": "e991e8e5",
   "metadata": {},
   "outputs": [],
   "source": []
  },
  {
   "cell_type": "code",
   "execution_count": null,
   "id": "5f131350",
   "metadata": {},
   "outputs": [],
   "source": []
  },
  {
   "cell_type": "code",
   "execution_count": null,
   "id": "baefa94e",
   "metadata": {},
   "outputs": [],
   "source": []
  },
  {
   "cell_type": "code",
   "execution_count": null,
   "id": "b675fc67",
   "metadata": {},
   "outputs": [],
   "source": []
  },
  {
   "cell_type": "code",
   "execution_count": null,
   "id": "737876ad",
   "metadata": {},
   "outputs": [],
   "source": []
  }
 ],
 "metadata": {
  "kernelspec": {
   "display_name": "Python 3 (ipykernel)",
   "language": "python",
   "name": "python3"
  },
  "language_info": {
   "codemirror_mode": {
    "name": "ipython",
    "version": 3
   },
   "file_extension": ".py",
   "mimetype": "text/x-python",
   "name": "python",
   "nbconvert_exporter": "python",
   "pygments_lexer": "ipython3",
   "version": "3.9.12"
  }
 },
 "nbformat": 4,
 "nbformat_minor": 5
}
